{
 "cells": [
  {
   "cell_type": "markdown",
   "metadata": {},
   "source": [
    "# Univariate Linear Regression"
   ]
  },
  {
   "cell_type": "code",
   "execution_count": 1,
   "metadata": {},
   "outputs": [],
   "source": [
    "# importing required libraries\n",
    "import matplotlib.pyplot as plt\n",
    "import numpy as np\n",
    "\n",
    "%matplotlib inline"
   ]
  },
  {
   "cell_type": "markdown",
   "metadata": {},
   "source": [
    "## Reading the dataset"
   ]
  },
  {
   "cell_type": "code",
   "execution_count": 2,
   "metadata": {},
   "outputs": [],
   "source": [
    "file = open(\"./Dataset/ex1data1.txt\", \"r\")\n",
    "\n",
    "train_data = []\n",
    "train_data_labels = []\n",
    "\n",
    "for x in file:\n",
    "    line = x.split(\",\")\n",
    "    # converting string to float\n",
    "    train_data.append(float(line[0]))\n",
    "    train_data_labels.append(float(line[1]))"
   ]
  },
  {
   "cell_type": "code",
   "execution_count": 3,
   "metadata": {},
   "outputs": [
    {
     "name": "stdout",
     "output_type": "stream",
     "text": [
      "Total number of samples: 97\n"
     ]
    }
   ],
   "source": [
    "total_samples = len(train_data)\n",
    "\n",
    "print(\"Total number of samples: \" + str(total_samples))"
   ]
  },
  {
   "cell_type": "markdown",
   "metadata": {},
   "source": [
    "## Visualizing the dataset"
   ]
  },
  {
   "cell_type": "code",
   "execution_count": 4,
   "metadata": {},
   "outputs": [
    {
     "data": {
      "image/png": "[encoded data removed]",
      "text/plain": [
       "<Figure size 720x576 with 1 Axes>"
      ]
     },
     "metadata": {
      "needs_background": "light"
     },
     "output_type": "display_data"
    }
   ],
   "source": [
    "plt.figure(figsize=(10,8))\n",
    "\n",
    "# adjusting ranges and interval of x and y axis\n",
    "plt.xticks(np.arange(4, 25, 2))\n",
    "plt.yticks(np.arange(-5, 26, 5))\n",
    "\n",
    "# scatter plot\n",
    "plt.scatter(train_data, train_data_labels, marker = \"x\", c = \"red\")\n",
    "\n",
    "# labelling the x and y axis\n",
    "plt.xlabel(\"Population of City in 10,000s\")\n",
    "plt.ylabel(\"Profit in $10,000s\")\n",
    "\n",
    "# plotting the graph\n",
    "plt.show()"
   ]
  },
  {
   "cell_type": "markdown",
   "metadata": {},
   "source": [
    "## Cost Function"
   ]
  },
  {
   "cell_type": "code",
   "execution_count": 5,
   "metadata": {},
   "outputs": [],
   "source": [
    "def calc_cost(thetas, x, y, m):\n",
    "    summation = 0\n",
    "    for i in range(total_samples):\n",
    "        summation += ((thetas[0] + thetas[1]*x[i] - y[i]) ** 2)\n",
    "    \n",
    "    cost = summation / (2*m)\n",
    "    return cost"
   ]
  },
  {
   "cell_type": "markdown",
   "metadata": {},
   "source": [
    "## Gradient Descent"
   ]
  },
  {
   "cell_type": "markdown",
   "metadata": {},
   "source": [
    "Computing partial derivative of J with respect to theetas (0 and 1)"
   ]
  },
  {
   "cell_type": "code",
   "execution_count": 6,
   "metadata": {},
   "outputs": [],
   "source": [
    "# parameters\n",
    "alpha = 0.02\n",
    "\n",
    "# initializing thetas with 0\n",
    "thetas = [0, 0]\n",
    "\n",
    "# maximum number of iterations\n",
    "iterations = 1500"
   ]
  },
  {
   "cell_type": "code",
   "execution_count": 7,
   "metadata": {},
   "outputs": [],
   "source": [
    "# calculating derivate with respect to theta 0\n",
    "def deriv_theta_0(thetas, x, y, m):\n",
    "    summation = 0\n",
    "\n",
    "    for i in range(m):\n",
    "        summation += thetas[0] + thetas[1]*x[i] - y[i]\n",
    "    \n",
    "    summation = summation / m\n",
    "    return summation"
   ]
  },
  {
   "cell_type": "code",
   "execution_count": 8,
   "metadata": {},
   "outputs": [],
   "source": [
    "# calculating derivative with respect to theta 1\n",
    "def deriv_theta_1(thetas, x, y, m):\n",
    "    summation = 0\n",
    "\n",
    "    for i in range(m):\n",
    "        summation += ((thetas[0] + thetas[1]*x[i] - y[i]) * x[i])\n",
    "    \n",
    "    summation = summation / m\n",
    "    return summation"
   ]
  },
  {
   "cell_type": "markdown",
   "metadata": {},
   "source": [
    "## \"Batch\" Gradient descent algorithm"
   ]
  },
  {
   "cell_type": "code",
   "execution_count": 9,
   "metadata": {},
   "outputs": [],
   "source": [
    "def batch_gradient_descent(iterations, alpha, train_data, train_data_labels, total_samples, thetas):\n",
    "    cost = calc_cost(thetas, train_data, train_data_labels, total_samples)\n",
    "    i = 0\n",
    "    \n",
    "    while(cost >= 0 and i <= iterations):\n",
    "        temp0 = thetas[0] - alpha*(deriv_theta_0(thetas, train_data, train_data_labels, total_samples))\n",
    "        temp1 = thetas[1] - alpha*(deriv_theta_1(thetas, train_data, train_data_labels, total_samples))\n",
    "\n",
    "        thetas[0] = temp0\n",
    "        thetas[1] = temp1\n",
    "        cost = calc_cost(thetas, train_data, train_data_labels, total_samples)\n",
    "        \n",
    "        i+=1\n",
    "    \n",
    "    return thetas"
   ]
  },
  {
   "cell_type": "code",
   "execution_count": 10,
   "metadata": {},
   "outputs": [
    {
     "name": "stdout",
     "output_type": "stream",
     "text": [
      "[-3.878201297937521, 1.1912675846584744]\n"
     ]
    }
   ],
   "source": [
    "new_thetas = batch_gradient_descent(iterations, alpha, train_data, train_data_labels, total_samples, thetas)\n",
    "\n",
    "print(new_thetas)"
   ]
  },
  {
   "cell_type": "markdown",
   "metadata": {},
   "source": [
    "## Plotting the best fit line"
   ]
  },
  {
   "cell_type": "code",
   "execution_count": 11,
   "metadata": {},
   "outputs": [
    {
     "data": {
      "image/png": "[encoded data removed]",
      "text/plain": [
       "<Figure size 720x576 with 1 Axes>"
      ]
     },
     "metadata": {
      "needs_background": "light"
     },
     "output_type": "display_data"
    }
   ],
   "source": [
    "plt.figure(figsize=(10,8))\n",
    "\n",
    "# adjusting ranges and interval of x and y axis\n",
    "plt.xticks(np.arange(4, 25, 2))\n",
    "plt.yticks(np.arange(-5, 26, 5))\n",
    "\n",
    "plt.scatter(train_data, train_data_labels, marker = \"x\", c = \"red\", label = 'training data')\n",
    "\n",
    "# labelling the x and y axis\n",
    "plt.xlabel(\"Population of City in 10,000s\")\n",
    "plt.ylabel(\"Profit in $10,000s\")\n",
    "\n",
    "m = new_thetas[1]\n",
    "c = new_thetas[0]\n",
    "\n",
    "train_data= np.array(train_data)\n",
    "\n",
    "plt.plot(train_data, m*train_data + c, label = 'regression line')\n",
    "\n",
    "plt.legend(loc='best')\n",
    "plt.show()"
   ]
  }
 ],
 "metadata": {
  "kernelspec": {
   "display_name": "Python 3",
   "language": "python",
   "name": "python3"
  },
  "language_info": {
   "codemirror_mode": {
    "name": "ipython",
    "version": 3
   },
   "file_extension": ".py",
   "mimetype": "text/x-python",
   "name": "python",
   "nbconvert_exporter": "python",
   "pygments_lexer": "ipython3",
   "version": "3.8.3"
  }
 },
 "nbformat": 4,
 "nbformat_minor": 4
}
